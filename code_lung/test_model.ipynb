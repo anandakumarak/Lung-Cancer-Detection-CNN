{
 "cells": [
  {
   "cell_type": "code",
   "execution_count": 4,
   "metadata": {},
   "outputs": [
    {
     "name": "stdout",
     "output_type": "stream",
     "text": [
      "1/1 [==============================] - 0s 99ms/step\n",
      "Prediction: Bengin_cases\n"
     ]
    }
   ],
   "source": [
    "import numpy as np\n",
    "from PIL import Image\n",
    "from keras.models import load_model\n",
    "\n",
    "# Load the saved model\n",
    "loaded_model = load_model('lung_cancer_detection_model.h5')\n",
    "\n",
    "# Function to preprocess input image\n",
    "def preprocess_image(image_path):\n",
    "    img = Image.open(image_path)\n",
    "    img = img.resize((256, 256))  # Assuming VGG16 input shape\n",
    "    img = np.array(img)\n",
    "    img = np.expand_dims(img, axis=0)\n",
    "    img = img / 255.0  # Normalize pixel values\n",
    "    return img\n",
    "\n",
    "# Function to make predictions\n",
    "def predict_cancer(image_path):\n",
    "    # Preprocess the input image\n",
    "    img = preprocess_image(image_path)\n",
    "\n",
    "    # Make predictions\n",
    "    predictions = loaded_model.predict(img)\n",
    "    class_labels = ['Bengin_cases', 'Malignant_cases', 'Normal_cases']\n",
    "    predicted_label = class_labels[np.argmax(predictions)]\n",
    "\n",
    "    # Return the predicted label\n",
    "    return predicted_label\n",
    "\n",
    "# Provide the path to your input image\n",
    "input_image_path = 'D:\\\\PROJECTS\\\\LUNG_CANCER\\\\dataset\\\\The_IQ_OTHNCCD_lung_cancer_dataset\\\\The_IQ_OTHNCCD_lung_cancer_dataset\\\\Bengin_cases\\\\Bengin case (10).jpg'\n",
    "\n",
    "# Make prediction\n",
    "prediction = predict_cancer(input_image_path)\n",
    "print(\"Prediction:\", prediction)\n"
   ]
  },
  {
   "cell_type": "code",
   "execution_count": null,
   "metadata": {},
   "outputs": [],
   "source": []
  }
 ],
 "metadata": {
  "kernelspec": {
   "display_name": "Python 3",
   "language": "python",
   "name": "python3"
  },
  "language_info": {
   "codemirror_mode": {
    "name": "ipython",
    "version": 3
   },
   "file_extension": ".py",
   "mimetype": "text/x-python",
   "name": "python",
   "nbconvert_exporter": "python",
   "pygments_lexer": "ipython3",
   "version": "3.10.9"
  },
  "orig_nbformat": 4
 },
 "nbformat": 4,
 "nbformat_minor": 2
}
